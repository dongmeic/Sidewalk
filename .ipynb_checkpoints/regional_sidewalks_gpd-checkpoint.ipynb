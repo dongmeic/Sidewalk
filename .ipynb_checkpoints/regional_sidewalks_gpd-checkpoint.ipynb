{
 "cells": [
  {
   "cell_type": "code",
   "execution_count": 1,
   "id": "ce872b30",
   "metadata": {},
   "outputs": [],
   "source": [
    "import geopandas as gpd\n",
    "import os"
   ]
  },
  {
   "cell_type": "code",
   "execution_count": 6,
   "id": "af86e1e6",
   "metadata": {},
   "outputs": [],
   "source": [
    "path = r'T:\\DCProjects\\Modeling\\Sidewalk\\ProPrj\\ProPrj.gdb'"
   ]
  },
  {
   "cell_type": "code",
   "execution_count": 7,
   "id": "85e985de",
   "metadata": {},
   "outputs": [],
   "source": [
    "sidewalks_EUG = gpd.read_file(path, layer='eug_sidewalks')"
   ]
  },
  {
   "cell_type": "code",
   "execution_count": 9,
   "id": "48f47304",
   "metadata": {},
   "outputs": [
    {
     "data": {
      "text/plain": [
       "<Projected CRS: EPSG:2914>\n",
       "Name: NAD83(HARN) / Oregon South (ft)\n",
       "Axis Info [cartesian]:\n",
       "- X[east]: Easting (foot)\n",
       "- Y[north]: Northing (foot)\n",
       "Area of Use:\n",
       "- name: United States (USA) - Oregon - counties of Coos; Crook; Curry; Deschutes; Douglas; Harney; Jackson; Josephine; Klamath; Lake; Lane; Malheur.\n",
       "- bounds: (-124.6, 41.98, -116.9, 44.56)\n",
       "Coordinate Operation:\n",
       "- name: SPCS83 Oregon South zone (International feet)\n",
       "- method: Lambert Conic Conformal (2SP)\n",
       "Datum: NAD83 (High Accuracy Reference Network)\n",
       "- Ellipsoid: GRS 1980\n",
       "- Prime Meridian: Greenwich"
      ]
     },
     "execution_count": 9,
     "metadata": {},
     "output_type": "execute_result"
    }
   ],
   "source": [
    "sidewalks_EUG.crs"
   ]
  },
  {
   "cell_type": "code",
   "execution_count": 13,
   "id": "c93e05d3",
   "metadata": {},
   "outputs": [
    {
     "data": {
      "text/html": [
       "<div>\n",
       "<style scoped>\n",
       "    .dataframe tbody tr th:only-of-type {\n",
       "        vertical-align: middle;\n",
       "    }\n",
       "\n",
       "    .dataframe tbody tr th {\n",
       "        vertical-align: top;\n",
       "    }\n",
       "\n",
       "    .dataframe thead th {\n",
       "        text-align: right;\n",
       "    }\n",
       "</style>\n",
       "<table border=\"1\" class=\"dataframe\">\n",
       "  <thead>\n",
       "    <tr style=\"text-align: right;\">\n",
       "      <th></th>\n",
       "      <th>Shape_Length</th>\n",
       "      <th>apprden</th>\n",
       "      <th>checked</th>\n",
       "      <th>gis_id</th>\n",
       "      <th>mater</th>\n",
       "      <th>swtype</th>\n",
       "      <th>year_</th>\n",
       "      <th>created_date</th>\n",
       "      <th>created_user</th>\n",
       "      <th>last_edited_date</th>\n",
       "      <th>last_edited_user</th>\n",
       "      <th>geometry</th>\n",
       "    </tr>\n",
       "  </thead>\n",
       "  <tbody>\n",
       "    <tr>\n",
       "      <th>0</th>\n",
       "      <td>150.839423</td>\n",
       "      <td>None</td>\n",
       "      <td>None</td>\n",
       "      <td>NaN</td>\n",
       "      <td>CONC</td>\n",
       "      <td>SB</td>\n",
       "      <td>None</td>\n",
       "      <td>None</td>\n",
       "      <td>None</td>\n",
       "      <td>None</td>\n",
       "      <td>None</td>\n",
       "      <td>MULTILINESTRING ((4226331.689 893353.069, 4226...</td>\n",
       "    </tr>\n",
       "    <tr>\n",
       "      <th>1</th>\n",
       "      <td>52.640786</td>\n",
       "      <td>None</td>\n",
       "      <td>None</td>\n",
       "      <td>NaN</td>\n",
       "      <td>CONC</td>\n",
       "      <td>SB</td>\n",
       "      <td>None</td>\n",
       "      <td>None</td>\n",
       "      <td>None</td>\n",
       "      <td>None</td>\n",
       "      <td>None</td>\n",
       "      <td>MULTILINESTRING ((4226455.939 893192.738, 4226...</td>\n",
       "    </tr>\n",
       "    <tr>\n",
       "      <th>2</th>\n",
       "      <td>51.753864</td>\n",
       "      <td>None</td>\n",
       "      <td>None</td>\n",
       "      <td>NaN</td>\n",
       "      <td>CONC</td>\n",
       "      <td>SB</td>\n",
       "      <td>None</td>\n",
       "      <td>None</td>\n",
       "      <td>None</td>\n",
       "      <td>None</td>\n",
       "      <td>None</td>\n",
       "      <td>MULTILINESTRING ((4226404.210 893194.363, 4226...</td>\n",
       "    </tr>\n",
       "  </tbody>\n",
       "</table>\n",
       "</div>"
      ],
      "text/plain": [
       "   Shape_Length apprden checked  gis_id mater swtype year_ created_date  \\\n",
       "0    150.839423    None    None     NaN  CONC     SB  None         None   \n",
       "1     52.640786    None    None     NaN  CONC     SB  None         None   \n",
       "2     51.753864    None    None     NaN  CONC     SB  None         None   \n",
       "\n",
       "  created_user last_edited_date last_edited_user  \\\n",
       "0         None             None             None   \n",
       "1         None             None             None   \n",
       "2         None             None             None   \n",
       "\n",
       "                                            geometry  \n",
       "0  MULTILINESTRING ((4226331.689 893353.069, 4226...  \n",
       "1  MULTILINESTRING ((4226455.939 893192.738, 4226...  \n",
       "2  MULTILINESTRING ((4226404.210 893194.363, 4226...  "
      ]
     },
     "execution_count": 13,
     "metadata": {},
     "output_type": "execute_result"
    }
   ],
   "source": [
    "sidewalks_EUG.head(3)"
   ]
  },
  {
   "cell_type": "code",
   "execution_count": 15,
   "id": "232096d9",
   "metadata": {},
   "outputs": [],
   "source": [
    "sidewalks_EUG['city'] = 'Eugene'"
   ]
  },
  {
   "cell_type": "code",
   "execution_count": 10,
   "id": "9dda8651",
   "metadata": {},
   "outputs": [],
   "source": [
    "sidewalks_SPR = gpd.read_file(path, layer='spr_sidewalks')"
   ]
  },
  {
   "cell_type": "code",
   "execution_count": 11,
   "id": "91905b27",
   "metadata": {},
   "outputs": [
    {
     "data": {
      "text/plain": [
       "<Projected CRS: EPSG:2270>\n",
       "Name: NAD83 / Oregon South (ft)\n",
       "Axis Info [cartesian]:\n",
       "- X[east]: Easting (foot)\n",
       "- Y[north]: Northing (foot)\n",
       "Area of Use:\n",
       "- name: United States (USA) - Oregon - counties of Coos; Crook; Curry; Deschutes; Douglas; Harney; Jackson; Josephine; Klamath; Lake; Lane; Malheur.\n",
       "- bounds: (-124.6, 41.98, -116.9, 44.56)\n",
       "Coordinate Operation:\n",
       "- name: SPCS83 Oregon South zone (International feet)\n",
       "- method: Lambert Conic Conformal (2SP)\n",
       "Datum: North American Datum 1983\n",
       "- Ellipsoid: GRS 1980\n",
       "- Prime Meridian: Greenwich"
      ]
     },
     "execution_count": 11,
     "metadata": {},
     "output_type": "execute_result"
    }
   ],
   "source": [
    "sidewalks_SPR.crs"
   ]
  },
  {
   "cell_type": "code",
   "execution_count": 14,
   "id": "fc5db653",
   "metadata": {},
   "outputs": [],
   "source": [
    "sidewalks_SPR = sidewalks_SPR.to_crs('EPSG:2914')"
   ]
  },
  {
   "cell_type": "code",
   "execution_count": 12,
   "id": "c61754a7",
   "metadata": {
    "scrolled": true
   },
   "outputs": [
    {
     "data": {
      "text/html": [
       "<div>\n",
       "<style scoped>\n",
       "    .dataframe tbody tr th:only-of-type {\n",
       "        vertical-align: middle;\n",
       "    }\n",
       "\n",
       "    .dataframe tbody tr th {\n",
       "        vertical-align: top;\n",
       "    }\n",
       "\n",
       "    .dataframe thead th {\n",
       "        text-align: right;\n",
       "    }\n",
       "</style>\n",
       "<table border=\"1\" class=\"dataframe\">\n",
       "  <thead>\n",
       "    <tr style=\"text-align: right;\">\n",
       "      <th></th>\n",
       "      <th>Shape_Length</th>\n",
       "      <th>dis</th>\n",
       "      <th>first_side</th>\n",
       "      <th>global_id</th>\n",
       "      <th>last_sidew</th>\n",
       "      <th>objectid_1</th>\n",
       "      <th>shape_leng</th>\n",
       "      <th>geometry</th>\n",
       "    </tr>\n",
       "  </thead>\n",
       "  <tbody>\n",
       "    <tr>\n",
       "      <th>0</th>\n",
       "      <td>31.340759</td>\n",
       "      <td>1</td>\n",
       "      <td></td>\n",
       "      <td>87b34f1c-b43f-44aa-a60b-fb5c0c9ba631</td>\n",
       "      <td>2</td>\n",
       "      <td>1.0</td>\n",
       "      <td>31.340759</td>\n",
       "      <td>MULTILINESTRING ((4284684.475 869555.594, 4284...</td>\n",
       "    </tr>\n",
       "    <tr>\n",
       "      <th>1</th>\n",
       "      <td>40.776523</td>\n",
       "      <td>1</td>\n",
       "      <td></td>\n",
       "      <td>e8f3c5b1-4965-475b-9d53-d5e4969f922a</td>\n",
       "      <td>2</td>\n",
       "      <td>2.0</td>\n",
       "      <td>40.776523</td>\n",
       "      <td>MULTILINESTRING ((4284653.158 869556.824, 4284...</td>\n",
       "    </tr>\n",
       "    <tr>\n",
       "      <th>2</th>\n",
       "      <td>473.136452</td>\n",
       "      <td>1</td>\n",
       "      <td></td>\n",
       "      <td>536cacb2-e76b-4abb-8b16-d49af8f04e07</td>\n",
       "      <td>2</td>\n",
       "      <td>3.0</td>\n",
       "      <td>473.136452</td>\n",
       "      <td>MULTILINESTRING ((4285146.767 869581.037, 4285...</td>\n",
       "    </tr>\n",
       "  </tbody>\n",
       "</table>\n",
       "</div>"
      ],
      "text/plain": [
       "   Shape_Length  dis first_side                             global_id  \\\n",
       "0     31.340759    1             87b34f1c-b43f-44aa-a60b-fb5c0c9ba631   \n",
       "1     40.776523    1             e8f3c5b1-4965-475b-9d53-d5e4969f922a   \n",
       "2    473.136452    1             536cacb2-e76b-4abb-8b16-d49af8f04e07   \n",
       "\n",
       "  last_sidew  objectid_1  shape_leng  \\\n",
       "0          2         1.0   31.340759   \n",
       "1          2         2.0   40.776523   \n",
       "2          2         3.0  473.136452   \n",
       "\n",
       "                                            geometry  \n",
       "0  MULTILINESTRING ((4284684.475 869555.594, 4284...  \n",
       "1  MULTILINESTRING ((4284653.158 869556.824, 4284...  \n",
       "2  MULTILINESTRING ((4285146.767 869581.037, 4285...  "
      ]
     },
     "execution_count": 12,
     "metadata": {},
     "output_type": "execute_result"
    }
   ],
   "source": [
    "sidewalks_SPR.head(3)"
   ]
  },
  {
   "cell_type": "code",
   "execution_count": 16,
   "id": "71b8099c",
   "metadata": {},
   "outputs": [],
   "source": [
    "sidewalks_SPR['city'] = 'Springfield'"
   ]
  },
  {
   "cell_type": "code",
   "execution_count": 17,
   "id": "e9846b8e",
   "metadata": {},
   "outputs": [],
   "source": [
    "sidewalks_EUG_SPR = sidewalks_EUG[['city', 'geometry']].append(sidewalks_SPR[['city', 'geometry']], ignore_index=True)"
   ]
  },
  {
   "cell_type": "code",
   "execution_count": 18,
   "id": "00c93573",
   "metadata": {},
   "outputs": [],
   "source": [
    "rtp_path = r'T:\\MPO\\RTP\\FY20 2045 Update\\Data and Resources'"
   ]
  },
  {
   "cell_type": "code",
   "execution_count": 20,
   "id": "3d07eeb6",
   "metadata": {},
   "outputs": [],
   "source": [
    "sidewalks_COB = gpd.read_file(os.path.join(rtp_path, 'Data', 'Coburg', 'Coburg_sidewalksCOB.shp'))"
   ]
  },
  {
   "cell_type": "code",
   "execution_count": 21,
   "id": "5c714f84",
   "metadata": {},
   "outputs": [
    {
     "data": {
      "text/html": [
       "<div>\n",
       "<style scoped>\n",
       "    .dataframe tbody tr th:only-of-type {\n",
       "        vertical-align: middle;\n",
       "    }\n",
       "\n",
       "    .dataframe tbody tr th {\n",
       "        vertical-align: top;\n",
       "    }\n",
       "\n",
       "    .dataframe thead th {\n",
       "        text-align: right;\n",
       "    }\n",
       "</style>\n",
       "<table border=\"1\" class=\"dataframe\">\n",
       "  <thead>\n",
       "    <tr style=\"text-align: right;\">\n",
       "      <th></th>\n",
       "      <th>Id</th>\n",
       "      <th>geometry</th>\n",
       "    </tr>\n",
       "  </thead>\n",
       "  <tbody>\n",
       "    <tr>\n",
       "      <th>0</th>\n",
       "      <td>1606</td>\n",
       "      <td>LINESTRING (4247692.584 911417.878, 4247677.46...</td>\n",
       "    </tr>\n",
       "    <tr>\n",
       "      <th>1</th>\n",
       "      <td>1609</td>\n",
       "      <td>LINESTRING (4247397.710 911318.253, 4247543.33...</td>\n",
       "    </tr>\n",
       "    <tr>\n",
       "      <th>2</th>\n",
       "      <td>1767</td>\n",
       "      <td>LINESTRING (4248497.585 909979.628, 4248995.71...</td>\n",
       "    </tr>\n",
       "  </tbody>\n",
       "</table>\n",
       "</div>"
      ],
      "text/plain": [
       "     Id                                           geometry\n",
       "0  1606  LINESTRING (4247692.584 911417.878, 4247677.46...\n",
       "1  1609  LINESTRING (4247397.710 911318.253, 4247543.33...\n",
       "2  1767  LINESTRING (4248497.585 909979.628, 4248995.71..."
      ]
     },
     "execution_count": 21,
     "metadata": {},
     "output_type": "execute_result"
    }
   ],
   "source": [
    "sidewalks_COB.head(3)"
   ]
  },
  {
   "cell_type": "code",
   "execution_count": 22,
   "id": "b6cf8029",
   "metadata": {},
   "outputs": [
    {
     "data": {
      "text/plain": [
       "<Projected CRS: EPSG:2914>\n",
       "Name: NAD83(HARN) / Oregon South (ft)\n",
       "Axis Info [cartesian]:\n",
       "- X[east]: Easting (foot)\n",
       "- Y[north]: Northing (foot)\n",
       "Area of Use:\n",
       "- name: United States (USA) - Oregon - counties of Coos; Crook; Curry; Deschutes; Douglas; Harney; Jackson; Josephine; Klamath; Lake; Lane; Malheur.\n",
       "- bounds: (-124.6, 41.98, -116.9, 44.56)\n",
       "Coordinate Operation:\n",
       "- name: SPCS83 Oregon South zone (International feet)\n",
       "- method: Lambert Conic Conformal (2SP)\n",
       "Datum: NAD83 (High Accuracy Reference Network)\n",
       "- Ellipsoid: GRS 1980\n",
       "- Prime Meridian: Greenwich"
      ]
     },
     "execution_count": 22,
     "metadata": {},
     "output_type": "execute_result"
    }
   ],
   "source": [
    "sidewalks_COB.crs"
   ]
  },
  {
   "cell_type": "code",
   "execution_count": 23,
   "id": "fe076968",
   "metadata": {},
   "outputs": [],
   "source": [
    "sidewalks_COB['city'] = 'Coburg'"
   ]
  },
  {
   "cell_type": "code",
   "execution_count": 24,
   "id": "ed1ab31a",
   "metadata": {},
   "outputs": [],
   "source": [
    "sidewalks = sidewalks_EUG_SPR.append(sidewalks_COB[['city', 'geometry']])"
   ]
  },
  {
   "cell_type": "code",
   "execution_count": 25,
   "id": "9f641216",
   "metadata": {},
   "outputs": [],
   "source": [
    "sidewalks.to_file(r'T:\\DCProjects\\Modeling\\Sidewalk\\data\\central_Lane_sidewalks.shp')"
   ]
  }
 ],
 "metadata": {
  "kernelspec": {
   "display_name": "Python 3",
   "language": "python",
   "name": "python3"
  },
  "language_info": {
   "codemirror_mode": {
    "name": "ipython",
    "version": 3
   },
   "file_extension": ".py",
   "mimetype": "text/x-python",
   "name": "python",
   "nbconvert_exporter": "python",
   "pygments_lexer": "ipython3",
   "version": "3.8.8"
  }
 },
 "nbformat": 4,
 "nbformat_minor": 5
}

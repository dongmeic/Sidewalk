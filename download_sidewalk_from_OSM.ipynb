{
 "cells": [
  {
   "cell_type": "code",
   "execution_count": 90,
   "metadata": {},
   "outputs": [],
   "source": [
    "place_name = \"Coburg, OR, USA\""
   ]
  },
  {
   "cell_type": "code",
   "execution_count": 2,
   "metadata": {},
   "outputs": [],
   "source": [
    "import osmnx as ox"
   ]
  },
  {
   "cell_type": "code",
   "execution_count": 3,
   "metadata": {},
   "outputs": [],
   "source": [
    "import geopandas as gpd"
   ]
  },
  {
   "cell_type": "code",
   "execution_count": 92,
   "metadata": {
    "tags": []
   },
   "outputs": [],
   "source": [
    "area = ox.geocode_to_gdf(place_name)"
   ]
  },
  {
   "cell_type": "code",
   "execution_count": 17,
   "metadata": {},
   "outputs": [
    {
     "data": {
      "text/html": [
       "<div>\n",
       "<style scoped>\n",
       "    .dataframe tbody tr th:only-of-type {\n",
       "        vertical-align: middle;\n",
       "    }\n",
       "\n",
       "    .dataframe tbody tr th {\n",
       "        vertical-align: top;\n",
       "    }\n",
       "\n",
       "    .dataframe thead th {\n",
       "        text-align: right;\n",
       "    }\n",
       "</style>\n",
       "<table border=\"1\" class=\"dataframe\">\n",
       "  <thead>\n",
       "    <tr style=\"text-align: right;\">\n",
       "      <th></th>\n",
       "      <th>geometry</th>\n",
       "      <th>bbox_north</th>\n",
       "      <th>bbox_south</th>\n",
       "      <th>bbox_east</th>\n",
       "      <th>bbox_west</th>\n",
       "      <th>place_id</th>\n",
       "      <th>osm_type</th>\n",
       "      <th>osm_id</th>\n",
       "      <th>lat</th>\n",
       "      <th>lon</th>\n",
       "      <th>display_name</th>\n",
       "      <th>class</th>\n",
       "      <th>type</th>\n",
       "      <th>importance</th>\n",
       "    </tr>\n",
       "  </thead>\n",
       "  <tbody>\n",
       "    <tr>\n",
       "      <th>0</th>\n",
       "      <td>MULTIPOLYGON (((-123.05014 44.05531, -123.0501...</td>\n",
       "      <td>44.094935</td>\n",
       "      <td>44.023536</td>\n",
       "      <td>-122.879054</td>\n",
       "      <td>-123.050143</td>\n",
       "      <td>298040144</td>\n",
       "      <td>relation</td>\n",
       "      <td>186721</td>\n",
       "      <td>44.046236</td>\n",
       "      <td>-123.022029</td>\n",
       "      <td>Springfield, Lane County, Oregon, United States</td>\n",
       "      <td>boundary</td>\n",
       "      <td>administrative</td>\n",
       "      <td>0.672105</td>\n",
       "    </tr>\n",
       "  </tbody>\n",
       "</table>\n",
       "</div>"
      ],
      "text/plain": [
       "                                            geometry  bbox_north  bbox_south  \\\n",
       "0  MULTIPOLYGON (((-123.05014 44.05531, -123.0501...   44.094935   44.023536   \n",
       "\n",
       "    bbox_east   bbox_west   place_id  osm_type  osm_id        lat         lon  \\\n",
       "0 -122.879054 -123.050143  298040144  relation  186721  44.046236 -123.022029   \n",
       "\n",
       "                                      display_name     class            type  \\\n",
       "0  Springfield, Lane County, Oregon, United States  boundary  administrative   \n",
       "\n",
       "   importance  \n",
       "0    0.672105  "
      ]
     },
     "execution_count": 17,
     "metadata": {},
     "output_type": "execute_result"
    }
   ],
   "source": [
    "area"
   ]
  },
  {
   "cell_type": "code",
   "execution_count": 6,
   "metadata": {},
   "outputs": [
    {
     "data": {
      "text/plain": [
       "geopandas.geodataframe.GeoDataFrame"
      ]
     },
     "execution_count": 6,
     "metadata": {},
     "output_type": "execute_result"
    }
   ],
   "source": [
    "type(area)"
   ]
  },
  {
   "cell_type": "code",
   "execution_count": 93,
   "metadata": {},
   "outputs": [
    {
     "data": {
      "text/plain": [
       "<Axes: >"
      ]
     },
     "execution_count": 93,
     "metadata": {},
     "output_type": "execute_result"
    },
    {
     "data": {
      "image/png": "[encoded data removed]",
      "text/plain": [
       "<Figure size 640x480 with 1 Axes>"
      ]
     },
     "metadata": {},
     "output_type": "display_data"
    }
   ],
   "source": [
    "area.plot()"
   ]
  },
  {
   "cell_type": "code",
   "execution_count": 99,
   "metadata": {},
   "outputs": [],
   "source": [
    "# List key-value pairs for tags\n",
    "#tags = {'building': True}\n",
    "# buildings = ox.geometries_from_place(place_name, tags)\n",
    "# buildings.head()\n",
    "tags = {'footway': True}\n",
    "footway = ox.geometries_from_place(place_name, tags)"
   ]
  },
  {
   "cell_type": "code",
   "execution_count": 101,
   "metadata": {},
   "outputs": [
    {
     "data": {
      "text/plain": [
       "Index(['geometry'], dtype='object')"
      ]
     },
     "execution_count": 101,
     "metadata": {},
     "output_type": "execute_result"
    }
   ],
   "source": [
    "footway.columns"
   ]
  },
  {
   "cell_type": "code",
   "execution_count": 103,
   "metadata": {},
   "outputs": [
    {
     "data": {
      "text/html": [
       "<div>\n",
       "<style scoped>\n",
       "    .dataframe tbody tr th:only-of-type {\n",
       "        vertical-align: middle;\n",
       "    }\n",
       "\n",
       "    .dataframe tbody tr th {\n",
       "        vertical-align: top;\n",
       "    }\n",
       "\n",
       "    .dataframe thead th {\n",
       "        text-align: right;\n",
       "    }\n",
       "</style>\n",
       "<table border=\"1\" class=\"dataframe\">\n",
       "  <thead>\n",
       "    <tr style=\"text-align: right;\">\n",
       "      <th></th>\n",
       "      <th>geometry</th>\n",
       "    </tr>\n",
       "  </thead>\n",
       "  <tbody>\n",
       "  </tbody>\n",
       "</table>\n",
       "</div>"
      ],
      "text/plain": [
       "Empty GeoDataFrame\n",
       "Columns: [geometry]\n",
       "Index: []"
      ]
     },
     "execution_count": 103,
     "metadata": {},
     "output_type": "execute_result"
    }
   ],
   "source": [
    "footway"
   ]
  },
  {
   "cell_type": "code",
   "execution_count": 95,
   "metadata": {},
   "outputs": [],
   "source": [
    "tags = {'highway': True}\n",
    "highway = ox.geometries_from_place(place_name, tags)"
   ]
  },
  {
   "cell_type": "code",
   "execution_count": 79,
   "metadata": {},
   "outputs": [],
   "source": [
    "selcols = ['highway','geometry','traffic_signals','crossing','bicycle','access','stop','direction','foot','cycleway','footway','sidewalk', 'lanes', 'construction']"
   ]
  },
  {
   "cell_type": "code",
   "execution_count": 37,
   "metadata": {},
   "outputs": [
    {
     "data": {
      "text/plain": [
       "['highway',\n",
       " 'geometry',\n",
       " 'traffic_signals',\n",
       " 'noref',\n",
       " 'ref',\n",
       " 'source',\n",
       " 'noexit',\n",
       " 'crossing',\n",
       " 'bicycle',\n",
       " 'access',\n",
       " 'traffic_signals:direction',\n",
       " 'note',\n",
       " 'stop',\n",
       " 'direction',\n",
       " 'junction',\n",
       " 'tiger:reviewed',\n",
       " 'crossing:island',\n",
       " 'tactile_paving',\n",
       " 'traffic_calming',\n",
       " 'foot',\n",
       " 'horse',\n",
       " 'motor_vehicle',\n",
       " 'addr:state',\n",
       " 'leisure',\n",
       " 'name',\n",
       " 'maxspeed',\n",
       " 'traffic_sign',\n",
       " 'traffic_sign:direction',\n",
       " 'description',\n",
       " 'distance',\n",
       " 'inscription:en',\n",
       " 'wheelchair',\n",
       " 'bench',\n",
       " 'bin',\n",
       " 'bus',\n",
       " 'covered',\n",
       " 'network',\n",
       " 'operator',\n",
       " 'public_transport',\n",
       " 'shelter',\n",
       " 'description:en',\n",
       " 'inscription',\n",
       " 'kerb',\n",
       " 'crossing_ref',\n",
       " 'network:wikidata',\n",
       " 'network:wikipedia',\n",
       " 'flashing_lights',\n",
       " 'cycleway',\n",
       " 'noname',\n",
       " 'button_operated',\n",
       " 'man_made',\n",
       " 'emergency',\n",
       " 'level',\n",
       " 'lit',\n",
       " 'traffic_signals:sound',\n",
       " 'traffic_signals:vibration',\n",
       " 'route_ref',\n",
       " 'departures_board',\n",
       " 'seats',\n",
       " 'brand',\n",
       " 'brand:wikidata',\n",
       " 'road_marking',\n",
       " 'surface',\n",
       " 'lamp_mount',\n",
       " 'lamp_type',\n",
       " 'direction:no_parking',\n",
       " 'direction:street_lamp',\n",
       " 'fixme',\n",
       " 'lanes',\n",
       " 'maxspeed:advisory',\n",
       " 'support',\n",
       " 'guyed',\n",
       " 'light:count',\n",
       " 'maxheight',\n",
       " 'local_ref',\n",
       " 'lamp:tilt',\n",
       " 'lamp:count',\n",
       " 'light:tilt',\n",
       " 'nodes',\n",
       " 'tiger:cfcc',\n",
       " 'tiger:county',\n",
       " 'tiger:name_base',\n",
       " 'service',\n",
       " 'alt_name',\n",
       " 'destination',\n",
       " 'destination:ref',\n",
       " 'junction:ref',\n",
       " 'oneway',\n",
       " 'destination:street',\n",
       " 'tiger:separated',\n",
       " 'tiger:source',\n",
       " 'tiger:tlid',\n",
       " 'tiger:upload_uuid',\n",
       " 'bridge',\n",
       " 'hgv',\n",
       " 'layer',\n",
       " 'old_name',\n",
       " 'source:name',\n",
       " 'destination:ref:to',\n",
       " 'hgv:national_network',\n",
       " 'source:hgv:national_network',\n",
       " 'destination:to',\n",
       " 'turn:lanes',\n",
       " 'segregated',\n",
       " 'NHS',\n",
       " 'change:lanes',\n",
       " 'name_1',\n",
       " 'name_2',\n",
       " 'old_ref',\n",
       " 'lanes:backward',\n",
       " 'lanes:forward',\n",
       " 'sidewalk',\n",
       " 'tiger:name_direction_prefix',\n",
       " 'cycleway:both',\n",
       " 'maxspeed:type',\n",
       " 'tiger:name_base_1',\n",
       " 'tiger:name_base_2',\n",
       " 'tiger:name_direction_suffix',\n",
       " 'tiger:name_direction_suffix_1',\n",
       " 'tiger:name_type_1',\n",
       " 'cycleway:left',\n",
       " 'cycleway:right',\n",
       " 'oneway:bicycle',\n",
       " 'expressway',\n",
       " 'incline',\n",
       " 'smoothness',\n",
       " 'width',\n",
       " 'tiger:name_direction_prefix_1',\n",
       " 'cycleway:both:lane',\n",
       " 'cycleway:buffer',\n",
       " 'tracktype',\n",
       " 'lcn',\n",
       " 'placement',\n",
       " 'parking:condition:right',\n",
       " 'parking:lane:left',\n",
       " 'parking:lane:right',\n",
       " 'change:lanes:forward',\n",
       " 'placement:forward',\n",
       " 'name:etymology:wikidata',\n",
       " 'lane_markings',\n",
       " 'not:name',\n",
       " 'lanes:bus:forward',\n",
       " 'destination:symbol',\n",
       " 'name:etymology:wikipedia',\n",
       " 'cycleway:right:lane',\n",
       " 'cycleway:left:buffer',\n",
       " 'parking:lane',\n",
       " 'name_3',\n",
       " 'tiger:name_base_3',\n",
       " 'bridge:name',\n",
       " 'source:bridge:name',\n",
       " 'maxspeed:hgv',\n",
       " 'comment',\n",
       " 'official_name',\n",
       " 'destination:backward',\n",
       " 'destination:forward',\n",
       " 'destination:ref:backward',\n",
       " 'destination:street:backward',\n",
       " 'destination:lanes',\n",
       " 'bicycle:lanes',\n",
       " 'handrail',\n",
       " 'ramp',\n",
       " 'step_count',\n",
       " 'footway',\n",
       " 'access:lanes',\n",
       " 'bus:lanes',\n",
       " 'lanes:bus',\n",
       " 'parking:lane:both',\n",
       " 'turn:lanes:backward',\n",
       " 'unsigned:ref',\n",
       " 'shoulder',\n",
       " 'psv',\n",
       " 'area',\n",
       " 'wikidata',\n",
       " 'tunnel',\n",
       " 'cycleway:left:oneway',\n",
       " 'check_date:surface',\n",
       " 'designation',\n",
       " 'note:lanes',\n",
       " 'turn:lanes:forward',\n",
       " 'building:part',\n",
       " 'source:position',\n",
       " 'ramp:bicycle',\n",
       " 'check_date',\n",
       " 'start_date',\n",
       " 'vehicle',\n",
       " 'motorcycle',\n",
       " 'shelter_type',\n",
       " 'sport',\n",
       " 'sidewalk:left:surface',\n",
       " 'sidewalk:right:surface',\n",
       " 'source:name:etymology',\n",
       " 'est_width',\n",
       " 'sidewalk:both:surface',\n",
       " 'mtb:scale',\n",
       " 'historic',\n",
       " 'place',\n",
       " 'parking:condition:both',\n",
       " 'lanes:both_ways',\n",
       " 'mtb:scale:imba',\n",
       " 'mtb:scale:uphill',\n",
       " 'trail_visibility',\n",
       " 'motor_vehicle:backward',\n",
       " 'visibility',\n",
       " 'flood_prone',\n",
       " 'construction',\n",
       " 'opening_date',\n",
       " 'stroller',\n",
       " 'dog',\n",
       " 'informal',\n",
       " 'golf',\n",
       " 'golf_cart',\n",
       " 'floating',\n",
       " 'abandoned',\n",
       " 'ownership',\n",
       " 'proposed',\n",
       " 'motorcar',\n",
       " 'busway:right',\n",
       " 'addr:city',\n",
       " 'addr:housenumber',\n",
       " 'addr:postcode',\n",
       " 'addr:street',\n",
       " 'addr:unit',\n",
       " 'ramp:wheelchair',\n",
       " 'ways',\n",
       " 'type']"
      ]
     },
     "execution_count": 37,
     "metadata": {},
     "output_type": "execute_result"
    }
   ],
   "source": [
    "list(highway.columns)"
   ]
  },
  {
   "cell_type": "code",
   "execution_count": 69,
   "metadata": {},
   "outputs": [
    {
     "data": {
      "text/plain": [
       "array(['Point', 'LineString', 'Polygon', 'MultiPolygon'], dtype=object)"
      ]
     },
     "execution_count": 69,
     "metadata": {},
     "output_type": "execute_result"
    }
   ],
   "source": [
    "highway.type.unique()"
   ]
  },
  {
   "cell_type": "code",
   "execution_count": 39,
   "metadata": {},
   "outputs": [
    {
     "data": {
      "text/plain": [
       "array(['traffic_signals', 'turning_circle', 'turning_loop',\n",
       "       'motorway_junction', 'crossing', 'stop', 'mini_roundabout',\n",
       "       'milestone', 'bus_stop', 'trailhead', 'passing_place', 'give_way',\n",
       "       'services', 'street_lamp', 'motorway_junction ref=12',\n",
       "       'residential', 'service', 'tertiary', 'motorway_link', 'motorway',\n",
       "       'secondary_link', 'primary', 'secondary', 'primary_link',\n",
       "       'cycleway', 'unclassified', 'footway', 'path', 'tertiary_link',\n",
       "       'trunk', 'steps', 'pedestrian', 'busway', 'living_street',\n",
       "       'construction', 'track', 'trunk_link', 'proposed', 'platform'],\n",
       "      dtype=object)"
      ]
     },
     "execution_count": 39,
     "metadata": {},
     "output_type": "execute_result"
    }
   ],
   "source": [
    "highway.highway.unique()"
   ]
  },
  {
   "cell_type": "code",
   "execution_count": 86,
   "metadata": {},
   "outputs": [
    {
     "data": {
      "text/plain": [
       "<Axes: >"
      ]
     },
     "execution_count": 86,
     "metadata": {},
     "output_type": "execute_result"
    },
    {
     "data": {
      "image/png": "[encoded data removed]",
      "text/plain": [
       "<Figure size 640x480 with 1 Axes>"
      ]
     },
     "metadata": {},
     "output_type": "display_data"
    }
   ],
   "source": [
    "highway[(highway.highway.isin(['footway', 'steps', 'pedestrian', 'crossing', 'path', 'construction'])) & (highway.type !='Point')].plot()"
   ]
  },
  {
   "cell_type": "code",
   "execution_count": 98,
   "metadata": {},
   "outputs": [
    {
     "data": {
      "text/plain": [
       "array(['turning_circle', 'traffic_signals', 'motorway_junction',\n",
       "       'crossing', 'street_lamp', 'stop', 'service', 'residential',\n",
       "       'secondary', 'tertiary', 'motorway_link', 'motorway', 'services',\n",
       "       'cycleway', 'footway'], dtype=object)"
      ]
     },
     "execution_count": 98,
     "metadata": {},
     "output_type": "execute_result"
    }
   ],
   "source": [
    "highway.highway.unique()"
   ]
  },
  {
   "cell_type": "code",
   "execution_count": 104,
   "metadata": {},
   "outputs": [],
   "source": [
    "#highway[(highway.sidewalk != 'no') & (highway.type =='LineString')].plot() #(~highway.sidewalk.isnull()), (highway.type !='Point')"
   ]
  },
  {
   "cell_type": "code",
   "execution_count": 55,
   "metadata": {},
   "outputs": [
    {
     "data": {
      "text/plain": [
       "array([nan, 'no', 'both', 'right', 'left', 'separate', 'yes'],\n",
       "      dtype=object)"
      ]
     },
     "execution_count": 55,
     "metadata": {},
     "output_type": "execute_result"
    }
   ],
   "source": [
    "highway.sidewalk.unique()"
   ]
  },
  {
   "cell_type": "code",
   "execution_count": 56,
   "metadata": {},
   "outputs": [
    {
     "data": {
      "text/plain": [
       "array([nan, 'sidewalk', 'crossing', 'access_aisle'], dtype=object)"
      ]
     },
     "execution_count": 56,
     "metadata": {},
     "output_type": "execute_result"
    }
   ],
   "source": [
    "highway.footway.unique()"
   ]
  },
  {
   "cell_type": "code",
   "execution_count": 58,
   "metadata": {},
   "outputs": [
    {
     "data": {
      "text/plain": [
       "array([nan, 'private', 'yes', 'designated', 'permissive', 'no',\n",
       "       'destination'], dtype=object)"
      ]
     },
     "execution_count": 58,
     "metadata": {},
     "output_type": "execute_result"
    }
   ],
   "source": [
    "highway.foot.unique()"
   ]
  },
  {
   "cell_type": "code",
   "execution_count": 59,
   "metadata": {},
   "outputs": [
    {
     "data": {
      "text/plain": [
       "array([nan, 'private', 'yes', 'no', 'destination', 'agricultural',\n",
       "       'permissive', 'customers'], dtype=object)"
      ]
     },
     "execution_count": 59,
     "metadata": {},
     "output_type": "execute_result"
    }
   ],
   "source": [
    "highway.access.unique()"
   ]
  },
  {
   "cell_type": "code",
   "execution_count": 63,
   "metadata": {},
   "outputs": [
    {
     "data": {
      "text/plain": [
       "array(['traffic_signals', 'turning_circle', 'turning_loop',\n",
       "       'motorway_junction', 'crossing', 'stop', 'mini_roundabout',\n",
       "       'milestone', 'bus_stop', 'trailhead', 'passing_place', 'give_way',\n",
       "       'services', 'street_lamp', 'motorway_junction ref=12',\n",
       "       'residential', 'service', 'tertiary', 'motorway_link', 'motorway',\n",
       "       'secondary_link', 'primary', 'secondary', 'primary_link',\n",
       "       'cycleway', 'unclassified', 'footway', 'path', 'tertiary_link',\n",
       "       'trunk', 'steps', 'pedestrian', 'busway', 'living_street',\n",
       "       'construction', 'track', 'trunk_link', 'proposed', 'platform'],\n",
       "      dtype=object)"
      ]
     },
     "execution_count": 63,
     "metadata": {},
     "output_type": "execute_result"
    }
   ],
   "source": [
    "highway.highway.unique()"
   ]
  },
  {
   "cell_type": "code",
   "execution_count": 60,
   "metadata": {},
   "outputs": [],
   "source": [
    "sel = (highway.highway=='path') & (highway.bicycle=='designated') & (highway.foot=='designated') & (highway.footway == 'sidewalk')"
   ]
  },
  {
   "cell_type": "code",
   "execution_count": 65,
   "metadata": {},
   "outputs": [
    {
     "data": {
      "text/plain": [
       "<Axes: >"
      ]
     },
     "execution_count": 65,
     "metadata": {},
     "output_type": "execute_result"
    },
    {
     "data": {
      "image/png": "[encoded data removed]",
      "text/plain": [
       "<Figure size 640x480 with 1 Axes>"
      ]
     },
     "metadata": {},
     "output_type": "display_data"
    }
   ],
   "source": [
    "highway[highway.highway=='path'].plot()"
   ]
  },
  {
   "cell_type": "code",
   "execution_count": 64,
   "metadata": {},
   "outputs": [
    {
     "data": {
      "text/plain": [
       "<Axes: >"
      ]
     },
     "execution_count": 64,
     "metadata": {},
     "output_type": "execute_result"
    },
    {
     "data": {
      "image/png": "[encoded data removed]",
      "text/plain": [
       "<Figure size 640x480 with 1 Axes>"
      ]
     },
     "metadata": {},
     "output_type": "display_data"
    }
   ],
   "source": [
    "highway[highway.foot=='designated'].plot()"
   ]
  },
  {
   "cell_type": "code",
   "execution_count": 91,
   "metadata": {},
   "outputs": [
    {
     "data": {
      "text/plain": [
       "<Axes: >"
      ]
     },
     "execution_count": 91,
     "metadata": {},
     "output_type": "execute_result"
    },
    {
     "data": {
      "image/png": "[encoded data removed]",
      "text/plain": [
       "<Figure size 640x480 with 1 Axes>"
      ]
     },
     "metadata": {},
     "output_type": "display_data"
    }
   ],
   "source": [
    "highway[highway.footway == 'sidewalk'].plot()"
   ]
  },
  {
   "cell_type": "code",
   "execution_count": 87,
   "metadata": {},
   "outputs": [],
   "source": [
    "df = highway[(highway.type =='LineString')][selcols] #(highway.sidewalk != 'no') & "
   ]
  },
  {
   "cell_type": "code",
   "execution_count": 88,
   "metadata": {},
   "outputs": [],
   "source": [
    "df.rename(columns={'traffic_signals': 't_signals', 'construction': 'construct'}, inplace=True)"
   ]
  },
  {
   "cell_type": "code",
   "execution_count": 89,
   "metadata": {},
   "outputs": [
    {
     "name": "stderr",
     "output_type": "stream",
     "text": [
      "C:\\Users\\clid1852\\AppData\\Local\\Temp\\ipykernel_1200\\3232305796.py:1: UserWarning: Column names longer than 10 characters will be truncated when saved to ESRI Shapefile.\n",
      "  df.to_file('T:/DCProjects/Modeling/Sidewalk/temp/osm_highway_SPR.shp')\n"
     ]
    }
   ],
   "source": [
    "df.to_file('T:/DCProjects/Modeling/Sidewalk/temp/osm_highway_SPR.shp')  "
   ]
  },
  {
   "cell_type": "code",
   "execution_count": 10,
   "metadata": {},
   "outputs": [],
   "source": [
    "buildings  = buildings.loc[buildings.geom_type == 'Polygon', buildings.columns.str.contains('addr:|geometry')]"
   ]
  },
  {
   "cell_type": "code",
   "execution_count": 11,
   "metadata": {},
   "outputs": [],
   "source": [
    "buildings.columns = buildings.columns.str.replace(\"addr:\", \"\")"
   ]
  },
  {
   "cell_type": "code",
   "execution_count": 12,
   "metadata": {},
   "outputs": [],
   "source": [
    "buildings.rename(columns={'housenumber': 'houseNo'}, inplace=True)"
   ]
  },
  {
   "cell_type": "code",
   "execution_count": 13,
   "metadata": {},
   "outputs": [
    {
     "data": {
      "text/plain": [
       "Index(['state', 'geometry', 'city', 'country', 'houseNo', 'postcode',\n",
       "       'street'],\n",
       "      dtype='object')"
      ]
     },
     "execution_count": 13,
     "metadata": {},
     "output_type": "execute_result"
    }
   ],
   "source": [
    "buildings.columns"
   ]
  },
  {
   "cell_type": "code",
   "execution_count": 14,
   "metadata": {},
   "outputs": [
    {
     "name": "stderr",
     "output_type": "stream",
     "text": [
      "C:\\Users\\clid1852\\AppData\\Local\\Temp\\ipykernel_1200\\759818116.py:2: UserWarning: Column names longer than 10 characters will be truncated when saved to ESRI Shapefile.\n",
      "  buildings.to_file('T:/DCProjects/Modeling/Sidewalk/temp/edgewood_buildings.shp')\n"
     ]
    }
   ],
   "source": [
    "# Save footprints \n",
    "buildings.to_file('T:/DCProjects/Modeling/Sidewalk/temp/edgewood_buildings.shp')  \n",
    "# Or save in a more open source format\n",
    "#buildings.to_file('../temp/edgewood_buildings.geojson', driver='GeoJSON')  "
   ]
  }
 ],
 "metadata": {
  "kernelspec": {
   "display_name": "Python 3 (ipykernel)",
   "language": "python",
   "name": "python3"
  },
  "language_info": {
   "codemirror_mode": {
    "name": "ipython",
    "version": 3
   },
   "file_extension": ".py",
   "mimetype": "text/x-python",
   "name": "python",
   "nbconvert_exporter": "python",
   "pygments_lexer": "ipython3",
   "version": "3.10.9"
  },
  "vscode": {
   "interpreter": {
    "hash": "c41245681b0c5dfdc198064911b7c792a0421ee2cbedc4ec4c9079156fd03e41"
   }
  }
 },
 "nbformat": 4,
 "nbformat_minor": 4
}

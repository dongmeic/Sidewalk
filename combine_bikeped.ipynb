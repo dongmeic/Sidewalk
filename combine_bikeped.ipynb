{
 "cells": [
  {
   "cell_type": "code",
   "execution_count": 1,
   "id": "12da498e",
   "metadata": {},
   "outputs": [],
   "source": [
    "import geopandas as gpd\n",
    "import pandas as pd"
   ]
  },
  {
   "cell_type": "code",
   "execution_count": 2,
   "id": "e000d252",
   "metadata": {},
   "outputs": [],
   "source": [
    "sidewalks = gpd.read_file(r'T:\\DCProjects\\Modeling\\Sidewalk\\data\\central_Lane_sidewalks.shp')"
   ]
  },
  {
   "cell_type": "code",
   "execution_count": 2,
   "id": "89b9a4f4",
   "metadata": {},
   "outputs": [],
   "source": [
    "bikeways = gpd.read_file(r'T:\\MPO\\RTP\\FY20 2045 Update\\Data and Resources\\PerformanceAnalysis\\sidewalk_bikeway_trails\\bikeways.shp')"
   ]
  },
  {
   "cell_type": "code",
   "execution_count": 4,
   "id": "edc347c0",
   "metadata": {},
   "outputs": [
    {
     "data": {
      "text/html": [
       "<div>\n",
       "<style scoped>\n",
       "    .dataframe tbody tr th:only-of-type {\n",
       "        vertical-align: middle;\n",
       "    }\n",
       "\n",
       "    .dataframe tbody tr th {\n",
       "        vertical-align: top;\n",
       "    }\n",
       "\n",
       "    .dataframe thead th {\n",
       "        text-align: right;\n",
       "    }\n",
       "</style>\n",
       "<table border=\"1\" class=\"dataframe\">\n",
       "  <thead>\n",
       "    <tr style=\"text-align: right;\">\n",
       "      <th></th>\n",
       "      <th>city</th>\n",
       "      <th>geometry</th>\n",
       "    </tr>\n",
       "  </thead>\n",
       "  <tbody>\n",
       "    <tr>\n",
       "      <th>0</th>\n",
       "      <td>Eugene</td>\n",
       "      <td>LINESTRING (4226331.689 893353.069, 4226329.75...</td>\n",
       "    </tr>\n",
       "    <tr>\n",
       "      <th>1</th>\n",
       "      <td>Eugene</td>\n",
       "      <td>LINESTRING (4226455.939 893192.738, 4226508.55...</td>\n",
       "    </tr>\n",
       "    <tr>\n",
       "      <th>2</th>\n",
       "      <td>Eugene</td>\n",
       "      <td>LINESTRING (4226404.210 893194.363, 4226455.93...</td>\n",
       "    </tr>\n",
       "    <tr>\n",
       "      <th>3</th>\n",
       "      <td>Eugene</td>\n",
       "      <td>LINESTRING (4226352.186 893197.835, 4226376.45...</td>\n",
       "    </tr>\n",
       "    <tr>\n",
       "      <th>4</th>\n",
       "      <td>Eugene</td>\n",
       "      <td>LINESTRING (4226252.842 893218.949, 4226276.62...</td>\n",
       "    </tr>\n",
       "  </tbody>\n",
       "</table>\n",
       "</div>"
      ],
      "text/plain": [
       "     city                                           geometry\n",
       "0  Eugene  LINESTRING (4226331.689 893353.069, 4226329.75...\n",
       "1  Eugene  LINESTRING (4226455.939 893192.738, 4226508.55...\n",
       "2  Eugene  LINESTRING (4226404.210 893194.363, 4226455.93...\n",
       "3  Eugene  LINESTRING (4226352.186 893197.835, 4226376.45...\n",
       "4  Eugene  LINESTRING (4226252.842 893218.949, 4226276.62..."
      ]
     },
     "execution_count": 4,
     "metadata": {},
     "output_type": "execute_result"
    }
   ],
   "source": [
    "sidewalks.head(5)"
   ]
  },
  {
   "cell_type": "code",
   "execution_count": 6,
   "id": "f5fcfed6",
   "metadata": {},
   "outputs": [
    {
     "data": {
      "text/plain": [
       "array(['LCOG', 'EUG', None, 'SPR'], dtype=object)"
      ]
     },
     "execution_count": 6,
     "metadata": {},
     "output_type": "execute_result"
    }
   ],
   "source": [
    "bikeways[(~bikeways.name.isnull()) & (bikeways.name != '0')]['source'].unique()"
   ]
  },
  {
   "cell_type": "code",
   "execution_count": 8,
   "id": "f2f778ac",
   "metadata": {},
   "outputs": [],
   "source": [
    "osm = gpd.read_file(r'T:\\DCProjects\\Modeling\\Sidewalk\\data\\bikeped_osm.shp')"
   ]
  },
  {
   "cell_type": "code",
   "execution_count": 9,
   "id": "aa5a74e7",
   "metadata": {},
   "outputs": [
    {
     "data": {
      "text/html": [
       "<div>\n",
       "<style scoped>\n",
       "    .dataframe tbody tr th:only-of-type {\n",
       "        vertical-align: middle;\n",
       "    }\n",
       "\n",
       "    .dataframe tbody tr th {\n",
       "        vertical-align: top;\n",
       "    }\n",
       "\n",
       "    .dataframe thead th {\n",
       "        text-align: right;\n",
       "    }\n",
       "</style>\n",
       "<table border=\"1\" class=\"dataframe\">\n",
       "  <thead>\n",
       "    <tr style=\"text-align: right;\">\n",
       "      <th></th>\n",
       "      <th>osmid</th>\n",
       "      <th>path_type</th>\n",
       "      <th>city</th>\n",
       "      <th>geometry</th>\n",
       "    </tr>\n",
       "  </thead>\n",
       "  <tbody>\n",
       "    <tr>\n",
       "      <th>0</th>\n",
       "      <td>5453146</td>\n",
       "      <td>residential</td>\n",
       "      <td>Eugene</td>\n",
       "      <td>LINESTRING (-123.09673 44.02361, -123.09698 44...</td>\n",
       "    </tr>\n",
       "    <tr>\n",
       "      <th>1</th>\n",
       "      <td>5453147</td>\n",
       "      <td>residential</td>\n",
       "      <td>Eugene</td>\n",
       "      <td>LINESTRING (-123.17625 44.09005, -123.17633 44...</td>\n",
       "    </tr>\n",
       "    <tr>\n",
       "      <th>2</th>\n",
       "      <td>5453149</td>\n",
       "      <td>residential</td>\n",
       "      <td>Eugene</td>\n",
       "      <td>LINESTRING (-123.17213 44.08984, -123.17309 44...</td>\n",
       "    </tr>\n",
       "    <tr>\n",
       "      <th>3</th>\n",
       "      <td>5453172</td>\n",
       "      <td>residential</td>\n",
       "      <td>Eugene</td>\n",
       "      <td>LINESTRING (-123.07481 44.10290, -123.07481 44...</td>\n",
       "    </tr>\n",
       "    <tr>\n",
       "      <th>4</th>\n",
       "      <td>5453175</td>\n",
       "      <td>residential</td>\n",
       "      <td>Eugene</td>\n",
       "      <td>LINESTRING (-123.09109 44.01802, -123.09118 44...</td>\n",
       "    </tr>\n",
       "  </tbody>\n",
       "</table>\n",
       "</div>"
      ],
      "text/plain": [
       "     osmid    path_type    city  \\\n",
       "0  5453146  residential  Eugene   \n",
       "1  5453147  residential  Eugene   \n",
       "2  5453149  residential  Eugene   \n",
       "3  5453172  residential  Eugene   \n",
       "4  5453175  residential  Eugene   \n",
       "\n",
       "                                            geometry  \n",
       "0  LINESTRING (-123.09673 44.02361, -123.09698 44...  \n",
       "1  LINESTRING (-123.17625 44.09005, -123.17633 44...  \n",
       "2  LINESTRING (-123.17213 44.08984, -123.17309 44...  \n",
       "3  LINESTRING (-123.07481 44.10290, -123.07481 44...  \n",
       "4  LINESTRING (-123.09109 44.01802, -123.09118 44...  "
      ]
     },
     "execution_count": 9,
     "metadata": {},
     "output_type": "execute_result"
    }
   ],
   "source": [
    "osm.head(5)"
   ]
  },
  {
   "cell_type": "code",
   "execution_count": 10,
   "id": "602517ab",
   "metadata": {},
   "outputs": [],
   "source": [
    "osm.loc[:, 'source'] = 'OSM'"
   ]
  },
  {
   "cell_type": "code",
   "execution_count": 12,
   "id": "b38d96ba",
   "metadata": {},
   "outputs": [
    {
     "data": {
      "text/plain": [
       "'COB'"
      ]
     },
     "execution_count": 12,
     "metadata": {},
     "output_type": "execute_result"
    }
   ],
   "source": [
    "x= 'Coburg'\n",
    "x.upper()[0:3]"
   ]
  },
  {
   "cell_type": "code",
   "execution_count": 14,
   "id": "e3fa4d7e",
   "metadata": {},
   "outputs": [],
   "source": [
    "sidewalks.loc[:, 'source'] = sidewalks.city.apply(lambda x: 'LCOG' if x=='Coburg' else x.upper()[0:3])"
   ]
  },
  {
   "cell_type": "code",
   "execution_count": 15,
   "id": "229a287a",
   "metadata": {},
   "outputs": [],
   "source": [
    "sidewalks.loc[:, 'id'] = range(sidewalks.shape[0])"
   ]
  },
  {
   "cell_type": "code",
   "execution_count": 16,
   "id": "c39e9828",
   "metadata": {},
   "outputs": [],
   "source": [
    "osm.rename(columns = {'osmid': 'id'}, inplace=True)"
   ]
  },
  {
   "cell_type": "code",
   "execution_count": 18,
   "id": "0fe3e3ba",
   "metadata": {},
   "outputs": [],
   "source": [
    "bikeways.rename(columns = {'type': 'path_type'}, inplace=True)"
   ]
  },
  {
   "cell_type": "code",
   "execution_count": 21,
   "id": "2dbbba6b",
   "metadata": {},
   "outputs": [
    {
     "data": {
      "text/plain": [
       "<Projected CRS: EPSG:2914>\n",
       "Name: NAD83(HARN) / Oregon South (ft)\n",
       "Axis Info [cartesian]:\n",
       "- X[east]: Easting (foot)\n",
       "- Y[north]: Northing (foot)\n",
       "Area of Use:\n",
       "- name: United States (USA) - Oregon - counties of Coos; Crook; Curry; Deschutes; Douglas; Harney; Jackson; Josephine; Klamath; Lake; Lane; Malheur.\n",
       "- bounds: (-124.6, 41.98, -116.9, 44.56)\n",
       "Coordinate Operation:\n",
       "- name: SPCS83 Oregon South zone (International feet)\n",
       "- method: Lambert Conic Conformal (2SP)\n",
       "Datum: NAD83 (High Accuracy Reference Network)\n",
       "- Ellipsoid: GRS 1980\n",
       "- Prime Meridian: Greenwich"
      ]
     },
     "execution_count": 21,
     "metadata": {},
     "output_type": "execute_result"
    }
   ],
   "source": [
    "sidewalks.crs"
   ]
  },
  {
   "cell_type": "code",
   "execution_count": 30,
   "id": "5e4ab508",
   "metadata": {},
   "outputs": [
    {
     "data": {
      "text/plain": [
       "Index(['city', 'geometry', 'source', 'id', 'path_type'], dtype='object')"
      ]
     },
     "execution_count": 30,
     "metadata": {},
     "output_type": "execute_result"
    }
   ],
   "source": [
    "sidewalks.columns"
   ]
  },
  {
   "cell_type": "code",
   "execution_count": 22,
   "id": "c89c4f76",
   "metadata": {},
   "outputs": [],
   "source": [
    "bikeways = bikeways.to_crs(epsg='2914')"
   ]
  },
  {
   "cell_type": "code",
   "execution_count": 23,
   "id": "0ec17639",
   "metadata": {},
   "outputs": [],
   "source": [
    "osm = osm.to_crs(epsg='2914')"
   ]
  },
  {
   "cell_type": "code",
   "execution_count": 24,
   "id": "6db40a56",
   "metadata": {},
   "outputs": [],
   "source": [
    "sidewalks.loc[:, 'path_type'] = 'sidewalk'"
   ]
  },
  {
   "cell_type": "code",
   "execution_count": 39,
   "id": "d525c96c",
   "metadata": {},
   "outputs": [],
   "source": [
    "cols = ['id', 'path_type', 'city', 'source', 'data', 'geometry']"
   ]
  },
  {
   "cell_type": "code",
   "execution_count": 31,
   "id": "f3a5168a",
   "metadata": {},
   "outputs": [],
   "source": [
    "bikeways.loc[:, 'city'] = 'MPO'"
   ]
  },
  {
   "cell_type": "code",
   "execution_count": 36,
   "id": "fd2b5b6c",
   "metadata": {},
   "outputs": [],
   "source": [
    "bikeways.loc[:, 'data'] = 'bikeways'"
   ]
  },
  {
   "cell_type": "code",
   "execution_count": 37,
   "id": "32d8d4ef",
   "metadata": {},
   "outputs": [],
   "source": [
    "sidewalks.loc[:, 'data'] = 'sidewalks'"
   ]
  },
  {
   "cell_type": "code",
   "execution_count": 38,
   "id": "97a13fca",
   "metadata": {},
   "outputs": [],
   "source": [
    "osm.loc[:, 'data'] = 'osm paths'"
   ]
  },
  {
   "cell_type": "code",
   "execution_count": 40,
   "id": "ff97d1f9",
   "metadata": {},
   "outputs": [],
   "source": [
    "data = pd.concat([sidewalks[cols], bikeways[cols], osm[cols]])"
   ]
  },
  {
   "cell_type": "code",
   "execution_count": 42,
   "id": "f99a4ec4",
   "metadata": {},
   "outputs": [],
   "source": [
    "data.to_file(r'T:\\DCProjects\\Modeling\\Sidewalk\\data\\bikeped.shp', index=False)"
   ]
  },
  {
   "cell_type": "code",
   "execution_count": 3,
   "id": "6e7a2e75",
   "metadata": {},
   "outputs": [],
   "source": [
    "data = gpd.read_file(r'T:\\DCProjects\\Modeling\\Sidewalk\\data\\bikeped.shp')"
   ]
  },
  {
   "cell_type": "code",
   "execution_count": 2,
   "id": "cfece551",
   "metadata": {},
   "outputs": [],
   "source": [
    "bikeways17 = gpd.read_file(\"T:\\Models\\BikeModels\\LCOG\\Data\\BikeModelData_2017.gdb\", layer=\"BikeFacility\")"
   ]
  },
  {
   "cell_type": "code",
   "execution_count": 6,
   "id": "f77d4dd3",
   "metadata": {},
   "outputs": [
    {
     "data": {
      "text/plain": [
       "Index(['link_id', 'fnode', 'tnode', 'fbearing', 'tbearing', 'str_dir',\n",
       "       'str_name', 'str_type', 'str_name2', 'type', 'bikefac', 'dst_ft',\n",
       "       'ow_rest', 'bik_rest', 'lturn_rest', 'rturn_rest', 'thru_rest', 'dzp',\n",
       "       'dzn', 'cnt_vol', 'est_vol', 'brg_nosep', 'brg_nofac', 'stop', 'signal',\n",
       "       'z_F', 'z_T', 'bridge', 'district', 'active_isodate', 'RegionalLink',\n",
       "       'NTedit_Flag', 'Speed', 'SLM', 'Bike_Oneway_Restriction',\n",
       "       'SHAPE_Length', 'taz_num', 'ugb_code', 'fclass', 'fed_class',\n",
       "       'inside_mpo', 'geometry'],\n",
       "      dtype='object')"
      ]
     },
     "execution_count": 6,
     "metadata": {},
     "output_type": "execute_result"
    }
   ],
   "source": [
    "bikeways17.columns"
   ]
  },
  {
   "cell_type": "code",
   "execution_count": 4,
   "id": "64eb4ff2",
   "metadata": {},
   "outputs": [],
   "source": [
    "strava = gpd.read_file(r'T:\\DCProjects\\Modeling\\AADBT\\data\\Strava\\aggregated_Strava_data.shp')"
   ]
  }
 ],
 "metadata": {
  "kernelspec": {
   "display_name": "Python 3",
   "language": "python",
   "name": "python3"
  },
  "language_info": {
   "codemirror_mode": {
    "name": "ipython",
    "version": 3
   },
   "file_extension": ".py",
   "mimetype": "text/x-python",
   "name": "python",
   "nbconvert_exporter": "python",
   "pygments_lexer": "ipython3",
   "version": "3.8.8"
  }
 },
 "nbformat": 4,
 "nbformat_minor": 5
}

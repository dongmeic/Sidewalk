{
 "cells": [
  {
   "cell_type": "code",
   "execution_count": 1,
   "id": "4b62d5f9",
   "metadata": {},
   "outputs": [],
   "source": [
    "import pandas as pd\n",
    "import geopandas as gpd\n",
    "import pyodbc\n",
    "import sqlalchemy as sal\n",
    "from shapely import wkb"
   ]
  },
  {
   "cell_type": "code",
   "execution_count": 2,
   "id": "43481b36",
   "metadata": {},
   "outputs": [],
   "source": [
    "shapefile =r'T:\\DCProjects\\Modeling\\Sidewalk\\data\\bikeped.shp'\n",
    "# read the entire shapefile first \n",
    "gdf = gpd.read_file(shapefile)"
   ]
  },
  {
   "cell_type": "code",
   "execution_count": 3,
   "id": "57a6be85",
   "metadata": {},
   "outputs": [
    {
     "data": {
      "text/html": [
       "<div>\n",
       "<style scoped>\n",
       "    .dataframe tbody tr th:only-of-type {\n",
       "        vertical-align: middle;\n",
       "    }\n",
       "\n",
       "    .dataframe tbody tr th {\n",
       "        vertical-align: top;\n",
       "    }\n",
       "\n",
       "    .dataframe thead th {\n",
       "        text-align: right;\n",
       "    }\n",
       "</style>\n",
       "<table border=\"1\" class=\"dataframe\">\n",
       "  <thead>\n",
       "    <tr style=\"text-align: right;\">\n",
       "      <th></th>\n",
       "      <th>id</th>\n",
       "      <th>path_type</th>\n",
       "      <th>city</th>\n",
       "      <th>source</th>\n",
       "      <th>data</th>\n",
       "      <th>geometry</th>\n",
       "    </tr>\n",
       "  </thead>\n",
       "  <tbody>\n",
       "    <tr>\n",
       "      <th>0</th>\n",
       "      <td>0</td>\n",
       "      <td>sidewalk</td>\n",
       "      <td>Eugene</td>\n",
       "      <td>EUG</td>\n",
       "      <td>sidewalks</td>\n",
       "      <td>LINESTRING (4226331.689 893353.069, 4226329.75...</td>\n",
       "    </tr>\n",
       "    <tr>\n",
       "      <th>1</th>\n",
       "      <td>1</td>\n",
       "      <td>sidewalk</td>\n",
       "      <td>Eugene</td>\n",
       "      <td>EUG</td>\n",
       "      <td>sidewalks</td>\n",
       "      <td>LINESTRING (4226455.939 893192.738, 4226508.55...</td>\n",
       "    </tr>\n",
       "    <tr>\n",
       "      <th>2</th>\n",
       "      <td>2</td>\n",
       "      <td>sidewalk</td>\n",
       "      <td>Eugene</td>\n",
       "      <td>EUG</td>\n",
       "      <td>sidewalks</td>\n",
       "      <td>LINESTRING (4226404.210 893194.363, 4226455.93...</td>\n",
       "    </tr>\n",
       "    <tr>\n",
       "      <th>3</th>\n",
       "      <td>3</td>\n",
       "      <td>sidewalk</td>\n",
       "      <td>Eugene</td>\n",
       "      <td>EUG</td>\n",
       "      <td>sidewalks</td>\n",
       "      <td>LINESTRING (4226352.186 893197.835, 4226376.45...</td>\n",
       "    </tr>\n",
       "    <tr>\n",
       "      <th>4</th>\n",
       "      <td>4</td>\n",
       "      <td>sidewalk</td>\n",
       "      <td>Eugene</td>\n",
       "      <td>EUG</td>\n",
       "      <td>sidewalks</td>\n",
       "      <td>LINESTRING (4226252.842 893218.949, 4226276.62...</td>\n",
       "    </tr>\n",
       "  </tbody>\n",
       "</table>\n",
       "</div>"
      ],
      "text/plain": [
       "   id path_type    city source       data  \\\n",
       "0   0  sidewalk  Eugene    EUG  sidewalks   \n",
       "1   1  sidewalk  Eugene    EUG  sidewalks   \n",
       "2   2  sidewalk  Eugene    EUG  sidewalks   \n",
       "3   3  sidewalk  Eugene    EUG  sidewalks   \n",
       "4   4  sidewalk  Eugene    EUG  sidewalks   \n",
       "\n",
       "                                            geometry  \n",
       "0  LINESTRING (4226331.689 893353.069, 4226329.75...  \n",
       "1  LINESTRING (4226455.939 893192.738, 4226508.55...  \n",
       "2  LINESTRING (4226404.210 893194.363, 4226455.93...  \n",
       "3  LINESTRING (4226352.186 893197.835, 4226376.45...  \n",
       "4  LINESTRING (4226252.842 893218.949, 4226276.62...  "
      ]
     },
     "execution_count": 3,
     "metadata": {},
     "output_type": "execute_result"
    }
   ],
   "source": [
    "gdf.head(5)"
   ]
  },
  {
   "cell_type": "code",
   "execution_count": null,
   "id": "1eaeeec6",
   "metadata": {},
   "outputs": [],
   "source": [
    "conn = pyodbc.connect('Driver={SQL Server};'\n",
    "                      'Server=rliddb.int.lcog.org,5433;'\n",
    "                      'Database=GIS_CLMPO;'\n",
    "                      'Trusted_Connection=yes;')\n",
    "cursor = conn.cursor()"
   ]
  },
  {
   "cell_type": "code",
   "execution_count": 5,
   "id": "66134aa1",
   "metadata": {},
   "outputs": [],
   "source": [
    "constr = 'mssql+pyodbc://rliddb.int.lcog.org,5433/GIS_CLMPO?trusted_connection=yes&driver=SQL+Server+Native+Client+11.0'\n",
    "engine = sal.create_engine(constr)\n",
    "conn = engine.connect()"
   ]
  },
  {
   "cell_type": "code",
   "execution_count": 7,
   "id": "50cf78e6",
   "metadata": {},
   "outputs": [],
   "source": [
    "# define a function to convert to wkb \n",
    "def wkb_hexer(line):\n",
    "    return line.wkb_hex"
   ]
  },
  {
   "cell_type": "code",
   "execution_count": 11,
   "id": "16b7a15c",
   "metadata": {
    "scrolled": true
   },
   "outputs": [
    {
     "data": {
      "text/plain": [
       "(77617, 6)"
      ]
     },
     "execution_count": 11,
     "metadata": {},
     "output_type": "execute_result"
    }
   ],
   "source": [
    "gdf.shape"
   ]
  },
  {
   "cell_type": "code",
   "execution_count": 13,
   "id": "cca4d1b5",
   "metadata": {},
   "outputs": [],
   "source": [
    "gdf = gdf[gdf.geometry.notnull()]"
   ]
  },
  {
   "cell_type": "code",
   "execution_count": 14,
   "id": "45825648",
   "metadata": {},
   "outputs": [
    {
     "data": {
      "text/plain": [
       "(77603, 6)"
      ]
     },
     "execution_count": 14,
     "metadata": {},
     "output_type": "execute_result"
    }
   ],
   "source": [
    "gdf.shape"
   ]
  },
  {
   "cell_type": "code",
   "execution_count": 15,
   "id": "45f32d16",
   "metadata": {},
   "outputs": [
    {
     "name": "stderr",
     "output_type": "stream",
     "text": [
      "C:\\Users\\clid1852\\AppData\\Anaconda3\\envs\\geoenv\\lib\\site-packages\\geopandas\\geodataframe.py:1350: UserWarning: Geometry column does not contain geometry.\n",
      "  warnings.warn(\"Geometry column does not contain geometry.\")\n"
     ]
    }
   ],
   "source": [
    "# apply to each row in the 'geometry' column\n",
    "gdf['geometry'] = gdf['geometry'].apply(wkb_hexer)"
   ]
  },
  {
   "cell_type": "code",
   "execution_count": 16,
   "id": "bcded628",
   "metadata": {},
   "outputs": [],
   "source": [
    "# finally, insert the dataframe into a table called 'bikeped' \n",
    "gdf.to_sql('bikeped', con = engine, schema = 'dbo', if_exists = 'replace')"
   ]
  }
 ],
 "metadata": {
  "kernelspec": {
   "display_name": "Python 3",
   "language": "python",
   "name": "python3"
  },
  "language_info": {
   "codemirror_mode": {
    "name": "ipython",
    "version": 3
   },
   "file_extension": ".py",
   "mimetype": "text/x-python",
   "name": "python",
   "nbconvert_exporter": "python",
   "pygments_lexer": "ipython3",
   "version": "3.8.8"
  }
 },
 "nbformat": 4,
 "nbformat_minor": 5
}

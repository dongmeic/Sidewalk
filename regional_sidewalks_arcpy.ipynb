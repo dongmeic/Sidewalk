{
 "cells": [
  {
   "cell_type": "code",
   "execution_count": 1,
   "id": "9babecc5",
   "metadata": {},
   "outputs": [],
   "source": [
    "from sidewalk_arcpy import download_feature_layer"
   ]
  },
  {
   "cell_type": "code",
   "execution_count": 2,
   "id": "9925c85d",
   "metadata": {},
   "outputs": [],
   "source": [
    "eug_url = 'https://services3.arcgis.com/F7NiRLGNbA2hh7gE/ArcGIS/rest/services/Eug_Sidewalks/FeatureServer'"
   ]
  },
  {
   "cell_type": "code",
   "execution_count": 3,
   "id": "fb72760e",
   "metadata": {},
   "outputs": [],
   "source": [
    "spr_url = 'https://services6.arcgis.com/5YJfprDR6T2FT4tY/ArcGIS/rest/services/Sidewalk/FeatureServer'"
   ]
  },
  {
   "cell_type": "code",
   "execution_count": 4,
   "id": "0cf04302",
   "metadata": {},
   "outputs": [
    {
     "name": "stdout",
     "output_type": "stream",
     "text": [
      "Data saved at T:\\DCProjects\\Modeling\\Sidewalk\\ProPrj\\ProPrj.gdb\\eug_sidewalks\n"
     ]
    }
   ],
   "source": [
    "download_feature_layer(url=eug_url, n=0, filename='eug_sidewalks')"
   ]
  },
  {
   "cell_type": "code",
   "execution_count": 5,
   "id": "d0d5a980",
   "metadata": {},
   "outputs": [
    {
     "name": "stdout",
     "output_type": "stream",
     "text": [
      "Data saved at T:\\DCProjects\\Modeling\\Sidewalk\\ProPrj\\ProPrj.gdb\\spr_sidewalks\n"
     ]
    }
   ],
   "source": [
    "download_feature_layer(url=spr_url, n=2, filename='spr_sidewalks')"
   ]
  }
 ],
 "metadata": {
  "kernelspec": {
   "display_name": "Python 3",
   "language": "python",
   "name": "python3"
  },
  "language_info": {
   "codemirror_mode": {
    "name": "ipython",
    "version": 3
   },
   "file_extension": ".py",
   "mimetype": "text/x-python",
   "name": "python",
   "nbconvert_exporter": "python",
   "pygments_lexer": "ipython3",
   "version": "3.9.11"
  }
 },
 "nbformat": 4,
 "nbformat_minor": 5
}
